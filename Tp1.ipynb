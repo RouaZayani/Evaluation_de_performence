{
 "cells": [
  {
   "cell_type": "markdown",
   "metadata": {},
   "source": [
    "##### <center> MINISTERE DE L’ENSEIGNEMENT SUPERIEUR  ET DE LA RECHERCHE SCIENTIFIQUE <br/> UNIVERSITE DE SOUSSE </center>\n",
    "\n",
    "### <center>Institut Supérieur d’Informatique et de Technique de Communication </center>           <img src=\"isitcom.png\"> \n",
    "### <center>المعهد العالي للإعلامية و تقنيات الاتصال بحمام سوسة</center>\n",
    "\n",
    "## <center> Evaluation de performance </center>\n",
    "\n",
    "# <center> <span style=\"color:blue\"> TP1: Génération de nombres aléatoires de différentes distributions </span></center>\n",
    "<hr>\n",
    "\n",
    "###  <center> Réalisé par : <br>   Zayani Roua & Ramla Khelifi 2DNI1 <center> <hr>\n",
    "\n",
    "#### <center> Année Universitaire 2019 – 2020 <center>\n",
    "<hr>"
   ]
  },
  {
   "cell_type": "markdown",
   "metadata": {},
   "source": [
    "<h1> <span style=\"color:red\"> 1-Objectifs : </span> </h1>\n",
    "<p> <FONT size=\"4\" face=\"Times New Roman\">\n",
    "    <ul>\n",
    "        <li>Calculer la moyenne empirique / expérimental et la variance empirique / experimentale)</li>\n",
    "        <li>Faire varier le nb d'échantillons (faire un tableau)</li>\n",
    "        <li>Vérifier la concordance entre moyenne théorique, empirique et variance théorique empirique</li>\n",
    "    </ul>\n",
    "    </FONT> </p>"
   ]
  },
  {
   "cell_type": "markdown",
   "metadata": {},
   "source": [
    "<h1> <span style=\"color:red\"> 2-Définition: </span> </h1>\n",
    "<h2 style='color:#26B260'>Moyenne empirique </h2>\n",
    "<p> <FONT size=\"4\" face=\"Times New Roman\">La statistique la plus évidente à calculer sur un échantillon numérique, celle dont l'interprétation est la plus intuitive, est la moyenne empirique.\n",
    "\n",
    "La moyenne empirique d'un échantillon est la somme de ses éléments divisée par leur nombre. Si l'échantillon est noté $(x_1,\\ldots,x_n)$, sa moyenne empirique est :\n",
    " $$\\displaystyle \\overline{x} = \\frac{1}{n} \\sum_{i=1}^n x_n\\;$$\n",
    "    </FONT> </p>\n",
    "   <p> <FONT size=\"4\" face=\"Times New Roman\">Lorsque n tend vers l'infini, la moyenne empirique s'approche de l'experience(moyenne théorique) :\n",
    "    $$\\lim _{{n\\to +\\infty }}\\overline{x}=E_x\\;$$ \n",
    "    Autrement dit: $$\\overline{x}≃E_x\\;$$</FONT></p>"
   ]
  },
  {
   "cell_type": "markdown",
   "metadata": {},
   "source": [
    "<h2 style='color:#26B260'>Variance empirique</h2>\n",
    "<p> <FONT size=\"4\" face=\"Times New Roman\">Les notions de variance et d'écart-type servent à quantifier la dispersion d'un échantillon autour de sa moyenne. La définition est la suivante :\n",
    "\n",
    "Soit $ (x_1,\\ldots,x_n)$ un échantillon, et $ \\overline{x}$ sa moyenne empirique. On appelle variance de l'échantillon, la quantité, notée $ s^2$, définie par :\n",
    "$$\\displaystyle σ^2 = \\frac{1}{n} \\sum_{i=1}^n (x_i-\\overline{x})^2\\;$$\n",
    "    Lorsque n tend vers l'infini, la variance empirique s'approche de la vrai variance (variance théorique) :\n",
    "    $$\\lim _{{n\\to +\\infty }}σ^2=V_x\\;$$ \n",
    "    Donc,$$σ^2≃V_x\\;$$  </FONT></p>"
   ]
  },
  {
   "cell_type": "markdown",
   "metadata": {},
   "source": [
    "<h1> <span style=\"color:red\"> 3-Distributions : </span> </h1>"
   ]
  },
  {
   "cell_type": "markdown",
   "metadata": {},
   "source": [
    "## Calcule de moyenne et variances "
   ]
  },
  {
   "cell_type": "code",
   "execution_count": 1,
   "metadata": {},
   "outputs": [],
   "source": [
    "import random\n",
    "import matplotlib.pyplot as plt\n",
    "import numpy as np"
   ]
  },
  {
   "cell_type": "code",
   "execution_count": 2,
   "metadata": {},
   "outputs": [],
   "source": [
    "def moyenne(t,n):\n",
    "    s=sum(t)\n",
    "    return s/n"
   ]
  },
  {
   "cell_type": "code",
   "execution_count": 3,
   "metadata": {},
   "outputs": [],
   "source": [
    "def var(t,n,x):\n",
    "    teta=0\n",
    "    for i in t:\n",
    "        teta=teta+(i-x)**2\n",
    "    return teta/n   "
   ]
  },
  {
   "cell_type": "code",
   "execution_count": 4,
   "metadata": {},
   "outputs": [],
   "source": [
    "N=[100,1000,10000,100000]"
   ]
  },
  {
   "cell_type": "markdown",
   "metadata": {},
   "source": [
    "<h2 style='color:#26B260'>Distribution uniforme </h2>\n",
    "<p><FONT size=\"4\" face=\"Times New Roman\">\n",
    "    <ul>\n",
    "        <li><b>Théoriquement:</b><br/>\n",
    "            Soit X une variable qui suit la loi uniforme sur [[0; 1]].  <br/>Alors :\n",
    "$$ E(X)=\\frac{1}{2}\\; et V (X)=\\frac{1}{12}\\;$$\n",
    "    </li>\n",
    "        <li><b>Pratique:</b></li>\n",
    "        </ul>\n",
    " </FONT></p>"
   ]
  },
  {
   "cell_type": "code",
   "execution_count": 5,
   "metadata": {},
   "outputs": [],
   "source": [
    "def table(n):\n",
    "    t=[]\n",
    "    for i in range(n):\n",
    "        x=random.uniform(0,1)\n",
    "        t.append(x)\n",
    "    return t"
   ]
  },
  {
   "cell_type": "code",
   "execution_count": 6,
   "metadata": {},
   "outputs": [
    {
     "data": {
      "image/png": "[encoded data removed]",
      "text/plain": [
       "<Figure size 432x288 with 1 Axes>"
      ]
     },
     "metadata": {
      "needs_background": "light"
     },
     "output_type": "display_data"
    },
    {
     "name": "stdout",
     "output_type": "stream",
     "text": [
      "Les resultats:\n",
      "Pour n=100, le moyenne=0.5426772852945054 et la variance=0.07850885553302031 \n",
      "Pour n=1000, le moyenne=0.4840986045071947 et la variance=0.08398510628870766 \n",
      "Pour n=10000, le moyenne=0.4971566490093374 et la variance=0.08410963911910349 \n",
      "Pour n=100000, le moyenne=0.49975463863693526 et la variance=0.08290843703948425 \n"
     ]
    }
   ],
   "source": [
    "moy=[]\n",
    "teta=[]\n",
    "for i in N:\n",
    "    tab=table(i)\n",
    "    x=moyenne(tab,i)\n",
    "    moy.append(x)\n",
    "    teta.append(var(tab,i,x))\n",
    "plt.plot(N,moy,'r')\n",
    "plt.plot(N,teta,'b')\n",
    "plt.show()\n",
    "print(\"Les resultats:\")\n",
    "for i in range(len(N)):\n",
    "    print('Pour n={}, le moyenne={} et la variance={} '.format(N[i],moy[i],teta[i]))"
   ]
  },
  {
   "cell_type": "markdown",
   "metadata": {},
   "source": [
    "<h2 style='color:#7DBBC6'> Interprétation </h2>\n",
    "<p><font size=\"4\" face=\"Times New Roman\">D'après les résultats obtenu, la moyenne empirique est à peu prés la moyenne trouve en théorique  qui égale 0.5.<br/> De même, on a trouve que la variance empirique est très proche de celle trouve en théorique.</font></p>"
   ]
  },
  {
   "cell_type": "markdown",
   "metadata": {},
   "source": [
    "<h2 style='color:#26B260'>Distribution exponentielle </h2>\n",
    "<p><FONT size=\"4\" face=\"Times New Roman\">\n",
    "    <ul>\n",
    "        <li><b>Théoriquement:</b><br/>\n",
    "            Soit X une variable qui suit la loi exponentielle de paramètre λ >0, on a : \n",
    "$$ E(X)=\\frac{1}{λ}\\; et V (X)=\\frac{1}{λ^2}\\;$$\n",
    "    </li>\n",
    "        <li><b>Pratique:</b></li>\n",
    "        </ul>\n",
    " </FONT></p>"
   ]
  },
  {
   "cell_type": "code",
   "execution_count": 11,
   "metadata": {},
   "outputs": [
    {
     "data": {
      "image/png": "[encoded data removed]",
      "text/plain": [
       "<Figure size 432x288 with 1 Axes>"
      ]
     },
     "metadata": {
      "needs_background": "light"
     },
     "output_type": "display_data"
    },
    {
     "name": "stdout",
     "output_type": "stream",
     "text": [
      "Les résultats:\n",
      "Pour n=100, le moyenne=0.09586011688939358 et la variance=0.0058327132933756855 \n",
      "Pour n=1000, le moyenne=0.10885929404649988 et la variance=0.010957100493244871 \n",
      "Pour n=10000, le moyenne=0.11130947121405627 et la variance=0.011244991438968661 \n",
      "Pour n=100000, le moyenne=0.1110332606894299 et la variance=0.011274297980911674 \n"
     ]
    }
   ],
   "source": [
    "X=[]\n",
    "U=[]\n",
    "moy=[]\n",
    "teta=[]\n",
    "lamda=10\n",
    "for i in N:\n",
    "    U=table(i)\n",
    "    for j in U:\n",
    "        x=-np.log(j)/lamda\n",
    "        X.append(x)\n",
    "    y=moyenne(X,i)\n",
    "    moy.append(y)\n",
    "    k=var(X,i,y)\n",
    "    teta.append(k)\n",
    "plt.plot(N,moy,'r')\n",
    "plt.plot(N,teta,'b')\n",
    "plt.show()\n",
    "print(\"Les résultats:\")\n",
    "for i in range(len(N)):\n",
    "    print('Pour n={}, le moyenne={} et la variance={} '.format(N[i],moy[i],teta[i]))"
   ]
  },
  {
   "cell_type": "markdown",
   "metadata": {},
   "source": [
    "<h2 style='color:#7DBBC6'> Interprétation </h2>\n",
    "<p><font size=\"4\" face=\"Times New Roman\">\n",
    "    Pour λ=10, la moyenne=0.1 et la variance=0.01 en théorique.<br/>\n",
    "    On remarque que quand on augmente la valeur de N :<br/>\n",
    "    • La variance empirique augmente pour atteindre la valeur de la variance théorique. <br/>\n",
    "    • La moyenne empirique se proche de la moyenne théorique.</font></p>"
   ]
  },
  {
   "cell_type": "code",
   "execution_count": null,
   "metadata": {},
   "outputs": [],
   "source": []
  }
 ],
 "metadata": {
  "kernelspec": {
   "display_name": "Python 3",
   "language": "python",
   "name": "python3"
  },
  "language_info": {
   "codemirror_mode": {
    "name": "ipython",
    "version": 3
   },
   "file_extension": ".py",
   "mimetype": "text/x-python",
   "name": "python",
   "nbconvert_exporter": "python",
   "pygments_lexer": "ipython3",
   "version": "3.8.3"
  }
 },
 "nbformat": 4,
 "nbformat_minor": 4
}
